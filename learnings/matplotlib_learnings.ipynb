{
  "nbformat": 4,
  "nbformat_minor": 0,
  "metadata": {
    "colab": {
      "name": "matplotlib_learnings.ipynb",
      "provenance": [],
      "collapsed_sections": [],
      "toc_visible": true,
      "authorship_tag": "ABX9TyPftLoE7jMnF/CmKFnan2xL",
      "include_colab_link": true
    },
    "kernelspec": {
      "name": "python3",
      "display_name": "Python 3"
    },
    "language_info": {
      "name": "python"
    }
  },
  "cells": [
    {
      "cell_type": "markdown",
      "metadata": {
        "id": "view-in-github",
        "colab_type": "text"
      },
      "source": [
        "<a href=\"https://colab.research.google.com/github/Rahul14237/python/blob/master/matplotlib_learnings.ipynb\" target=\"_parent\"><img src=\"https://colab.research.google.com/assets/colab-badge.svg\" alt=\"Open In Colab\"/></a>"
      ]
    },
    {
      "cell_type": "markdown",
      "metadata": {
        "id": "Y2yEFJruAq9J"
      },
      "source": [
        "# Matplotlib\n"
      ]
    },
    {
      "cell_type": "markdown",
      "metadata": {
        "id": "bUGLMwAvAygU"
      },
      "source": [
        "matplotlib is the 2D plotting library written for Python. Matplotlib is a comprehensive library for creating static, animated, and interactive visualizations in Python.\n",
        "\n",
        "\n",
        "> It consists of pyplot which is a object oriented interface to matplotlib.\n",
        "  It provides a MATLAB-like way of plotting.\n",
        "\n",
        "> Terminology\n",
        "1.   Figure: canvas, on which all drawing components are plotted\n",
        "2.   Axes: Axes are subdivision of the figure, which contains most of the figure elements like: Axis , Tick , Line2D , Text , Polygon , etc., and sets the coordinate system.\n",
        "\n",
        "\n",
        "\n"
      ]
    },
    {
      "cell_type": "code",
      "metadata": {
        "id": "9sHZdSmpDN-i"
      },
      "source": [
        ""
      ],
      "execution_count": null,
      "outputs": []
    }
  ]
}
